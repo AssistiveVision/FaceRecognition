{
 "cells": [
  {
   "cell_type": "markdown",
   "metadata": {},
   "source": [
    "## Face Recognition\n",
    "Capstone Project"
   ]
  },
  {
   "cell_type": "code",
   "execution_count": 1,
   "metadata": {},
   "outputs": [],
   "source": [
    "# Importing libraries used\n",
    "import numpy as np\n",
    "import pandas as pd\n",
    "from os import listdir\n",
    "from os.path import isdir\n",
    "from PIL import Image\n",
    "from matplotlib import pyplot\n",
    "from numpy import asarray\n",
    "from mtcnn.mtcnn import MTCNN\n",
    "from numpy import load\n",
    "from numpy import expand_dims\n",
    "from random import choice\n",
    "from keras.models import load_model\n",
    "from sklearn.metrics import accuracy_score\n",
    "from sklearn.preprocessing import LabelEncoder\n",
    "from sklearn.preprocessing import Normalizer\n",
    "from sklearn.svm import SVC\n",
    "import cv2"
   ]
  },
  {
   "cell_type": "markdown",
   "metadata": {},
   "source": [
    "<h1 style=\"text-align: justify;\">FaceNet</h1>\n",
    "<p style=\"text-align: justify;\">FaceNet is a face recognition system developed in 2015 by researchers at Google that achieved then state-of-the-art results on a range of face recognition benchmark datasets. The FaceNet system can be used broadly thanks to multiple third-party open source implementations of the model and the availability of pre-trained models.</p>\n",
    "<p style=\"text-align: justify;\">The FaceNet system can be used to extract high-quality features from faces, called face embeddings, that can then be used to train a face identification system.</p>\n",
    "<p style=\"text-align: justify;\"><img src=\"https://miro.medium.com/max/1598/1*PaxDM5QUt8ZzUgCo2dzf4w.png\" alt=\"\" /></p>\n",
    "<p style=\"text-align: justify;\">&nbsp;</p>\n",
    "<h2 id=\"d81d\" class=\"jy jz fj as ka kb kc hy kd ke kf ic kg kh ki kj kk kl km kn ko kp kq kr ks kt bx\" style=\"text-align: justify;\">Triplet Loss and Selection</h2>\n",
    "<p style=\"text-align: justify;\"><img src=\"https://miro.medium.com/max/1116/1*IZEsEztCsy8ibdUaZ-7CRw.png\" alt=\"\" width=\"558\" height=\"145\" /></p>\n",
    "<p style=\"text-align: justify;\">The intuition behind triplet loss function is that we want our anchor image (image of a specific person A) to be closer to positive images (all the images of person A) as compared to negative images (all the other images).</p>\n",
    "<p id=\"54ca\" class=\"ht hu fj hv b hw hx hy hz ia ib ic id ie if ig ih ii ij ik il im in io ip iq fb bx\" style=\"text-align: justify;\" data-selectable-paragraph=\"\">Triplet loss function can be formally defined as:&nbsp;</p>\n",
    "<p class=\"ht hu fj hv b hw hx hy hz ia ib ic id ie if ig ih ii ij ik il im in io ip iq fb bx\" style=\"text-align: justify;\" data-selectable-paragraph=\"\"><img src=\"https://miro.medium.com/max/1008/1*QnscpwgGTlznX_rTyRdKcQ.png\" alt=\"\" width=\"533\" height=\"109\" /></p>\n",
    "<p class=\"ht hu fj hv b hw hx hy hz ia ib ic id ie if ig ih ii ij ik il im in io ip iq fb bx\" style=\"text-align: justify;\" data-selectable-paragraph=\"\"><img src=\"https://miro.medium.com/max/1304/1*xeyhNFIjzWL73yvd2qC9ew.png\" alt=\"\" /></p>\n",
    "<p id=\"d5de\" class=\"ht hu fj hv b hw hx hy hz ia ib ic id ie if ig ih ii ij ik il im in io ip iq fb bx\" style=\"text-align: justify;\" data-selectable-paragraph=\"\">Here, the superscript a, p and n correspond to anchor, positive and negative images respectively.</p>\n",
    "<p id=\"eeb7\" class=\"ht hu fj hv b hw hx hy hz ia ib ic id ie if ig ih ii ij ik il im in io ip iq fb bx\" style=\"text-align: justify;\" data-selectable-paragraph=\"\">Alpha is defined here as the margin between positive and negative pairs. It is essentially a threshold value which determines the difference between our image pairs. If let&rsquo;s say alpha is set to 0.5, then we want the difference between our anchor-positive and anchor-negative image pairs to be at least 0.5.</p>\n",
    "<p class=\"ht hu fj hv b hw hx hy hz ia ib ic id ie if ig ih ii ij ik il im in io ip iq fb bx\" style=\"text-align: justify;\" data-selectable-paragraph=\"\">&nbsp;</p>\n",
    "<p class=\"ht hu fj hv b hw hx hy hz ia ib ic id ie if ig ih ii ij ik il im in io ip iq fb bx\" style=\"text-align: justify;\" data-selectable-paragraph=\"\">&nbsp;</p>\n",
    "<h2>Triplet Selection</h2>\n",
    "<p id=\"53e6\" class=\"ht hu fj hv b hw ku hy hz ia kv ic id ie kw ig ih ii kx ik il im ky io ip iq fb bx\" style=\"text-align: justify;\" data-selectable-paragraph=\"\">Choosing the correct image pairs is extremely important as there will be a lot of image pairs that will satisfy this condition and hence our model won&rsquo;t learn much from them and will also converge slowly because of that.</p>\n",
    "<p id=\"ec7e\" class=\"ht hu fj hv b hw hx hy hz ia ib ic id ie if ig ih ii ij ik il im in io ip iq fb bx\" style=\"text-align: justify;\" data-selectable-paragraph=\"\">In order to ensure fast convergence, it is crucial to select triplets that violate the triplet constraint.</p>\n",
    "<p id=\"7f0e\" class=\"ht hu fj hv b hw hx hy hz ia ib ic id ie if ig ih ii ij ik il im in io ip iq fb bx\" style=\"text-align: justify;\" data-selectable-paragraph=\"\">We essentially want to select the following:</p>\n",
    "<p class=\"ht hu fj hv b hw hx hy hz ia ib ic id ie if ig ih ii ij ik il im in io ip iq fb bx\" style=\"text-align: justify;\" data-selectable-paragraph=\"\"><img src=\"https://miro.medium.com/max/1304/1*armBzkqmmYqPGJP0eFH0eg.png\" alt=\"\" /></p>\n",
    "<p class=\"ht hu fj hv b hw hx hy hz ia ib ic id ie if ig ih ii ij ik il im in io ip iq fb bx\" style=\"text-align: justify;\" data-selectable-paragraph=\"\">&nbsp;</p>\n",
    "<p id=\"2f71\" class=\"ht hu fj hv b hw hx hy hz ia ib ic id ie if ig ih ii ij ik il im in io ip iq fb bx\" style=\"text-align: justify;\" data-selectable-paragraph=\"\">Eq (1) means that given an anchor image of person A, we want to find a positive image of A such that the distance between those two images is largest.</p>\n",
    "<p id=\"c4ba\" class=\"ht hu fj hv b hw hx hy hz ia ib ic id ie if ig ih ii ij ik il im in io ip iq fb bx\" style=\"text-align: justify;\" data-selectable-paragraph=\"\">Eq (2) means that given an anchor image of person A, we want to find a negative image such that the distance between those two images is smallest.</p>\n",
    "<p class=\"ht hu fj hv b hw hx hy hz ia ib ic id ie if ig ih ii ij ik il im in io ip iq fb bx\" style=\"text-align: justify;\" data-selectable-paragraph=\"\">So, we are just selecting the&nbsp;hard positives&nbsp;and&nbsp;hard negatives&nbsp;here. This approach helps us in speeding convergence as our model learns useful representations.</p>"
   ]
  },
  {
   "cell_type": "markdown",
   "metadata": {},
   "source": [
    "<h1 style=\"text-align: justify;\">Keras</h1>\n",
    "<p style=\"text-align: justify;\">Keras is a deep learning API written in Python, running on top of the machine learning platform TensorFlow. It was developed with a focus on enabling fast experimentation. Being able to go from idea to result as fast as possible is key to doing good research.</p>\n",
    "<p style=\"text-align: justify;\">The core data structures of Keras are layers and models. The simplest type of model is the Sequential model, a linear stack of layers. For more complex architectures, you should use the Keras functional API, which allows to build arbitrary graphs of layers, or write models entirely from scratch via subclasssing.</p>"
   ]
  },
  {
   "cell_type": "code",
   "execution_count": 2,
   "metadata": {},
   "outputs": [
    {
     "name": "stdout",
     "output_type": "stream",
     "text": [
      "WARNING:tensorflow:No training configuration found in the save file, so the model was *not* compiled. Compile it manually.\n",
      "[<KerasTensor: shape=(None, 160, 160, 3) dtype=float32 (created by layer 'input_1')>]\n",
      "[<KerasTensor: shape=(None, 128) dtype=float32 (created by layer 'Bottleneck_BatchNorm')>]\n"
     ]
    }
   ],
   "source": [
    "# Importing the pretrained deep learning model\n",
    "\n",
    "from keras.models import load_model\n",
    "model = load_model('facenet_keras.h5')\n",
    "\n",
    "# Input and output of model \n",
    "\n",
    "print(model.inputs)\n",
    "print(model.outputs)"
   ]
  },
  {
   "cell_type": "markdown",
   "metadata": {},
   "source": [
    "We can see that the model indeed expects square color images as input with the shape 160×160, and will output a face embedding as a 128 element vector."
   ]
  },
  {
   "cell_type": "code",
   "execution_count": 3,
   "metadata": {},
   "outputs": [
    {
     "name": "stdout",
     "output_type": "stream",
     "text": [
      "0.1.0\n"
     ]
    }
   ],
   "source": [
    "# Importing mtcnn \n",
    "\n",
    "import mtcnn\n",
    "\n",
    "print(mtcnn.__version__)"
   ]
  },
  {
   "cell_type": "markdown",
   "metadata": {},
   "source": [
    "<h1 class=\"je jf fp jg b gn ky ji jj gq kz jl jm jn la jp jq jr lb jt ju jv lc jx jy jz fh bx\" style=\"text-align: justify;\">MTCNN</h1>\n",
    "<p class=\"je jf fp jg b gn ky ji jj gq kz jl jm jn la jp jq jr lb jt ju jv lc jx jy jz fh bx\" style=\"text-align: justify;\" data-selectable-paragraph=\"\">&nbsp;</p>\n",
    "<p id=\"ff8c\" class=\"je jf fp jg b gn ky ji jj gq kz jl jm jn la jp jq jr lb jt ju jv lc jx jy jz fh bx\" style=\"text-align: justify;\" data-selectable-paragraph=\"\">MTCNN (Multi-task Cascaded Convolutional Neural Networks) is an algorithm consisting of 3 stages, which detects the bounding boxes of faces in an image along with their 5 Point Face Landmarks. Each stage gradually improves the detection results by passing it&rsquo;s inputs through a CNN, which returns candidate bounding boxes with their scores, followed by non max suppression.</p>\n",
    "<p id=\"e005\" class=\"je jf fp jg b gn jh ji jj gq jk jl jm jn jo jp jq jr js jt ju jv jw jx jy jz fh bx\" style=\"text-align: justify;\" data-selectable-paragraph=\"\">In stage 1 the input image is scaled down multiple times to build an&nbsp;<strong class=\"jg kb\">image pyramid</strong>&nbsp;and each scaled version of the image is passed through it&rsquo;s CNN. In stage 2 and 3 we extract image patches for each bounding box and resize them (<strong class=\"jg kb\">24x24</strong>&nbsp;in stage 2 and&nbsp;<strong class=\"jg kb\">48x48</strong>&nbsp;in stage 3) and forward them through the CNN of that stage. Besides bounding boxes and scores, stage 3 additionally computes&nbsp;<strong class=\"jg kb\">5 face landmarks points</strong>&nbsp;for each bounding box.</p>"
   ]
  },
  {
   "cell_type": "markdown",
   "metadata": {},
   "source": [
    "## Extracting the faces"
   ]
  },
  {
   "cell_type": "code",
   "execution_count": 4,
   "metadata": {},
   "outputs": [],
   "source": [
    "def extract_face(filename, required_size=(160, 160)):\n",
    "    \n",
    "    image = Image.open(filename)\n",
    "    image = image.convert('RGB')\n",
    "    pixels = asarray(image) # converting to numpy array\n",
    "    \n",
    "    detector = MTCNN()\n",
    "    results = detector.detect_faces(pixels) # returns dictionary including coordinates of bounding box\n",
    "    x1, y1, width, height = results[0]['box']  # extract the bounding box from the first face\n",
    "  \n",
    "    x1, y1 = abs(x1), abs(y1)  # as pixels are whole numbers\n",
    "    #this is a bug fix\n",
    "    x2, y2 = x1 + width, y1 + height  # obtaining the x2,y2 extreme coordinates using result dictionary\n",
    "    face = pixels[y1:y2, x1:x2] # extracting the face using the calculated coordinates\n",
    "\n",
    "    image = Image.fromarray(face)\n",
    "    image = image.resize(required_size) #resizing to fit into facenet model as it takes 160x160 output\n",
    "    face_array = asarray(image)\n",
    "    \n",
    "    return face_array"
   ]
  },
  {
   "cell_type": "markdown",
   "metadata": {},
   "source": [
    "<p style=\"text-align: justify;\"> The detect_faces function within the MTCNN class is called, to “detect faces” within the image we passed in and output the faces in “result”.\n",
    "Result seems to be a dictionary that included the coordinates of the bounding box and facial landmarks, as well as the network’s confidence in classifying that area as a face.</p>"
   ]
  },
  {
   "cell_type": "code",
   "execution_count": 5,
   "metadata": {},
   "outputs": [],
   "source": [
    "# Loading faces from each picture in training directory\n",
    "\n",
    "def load_faces(directory):\n",
    "    \n",
    "    faces = list()\n",
    "    for filename in listdir(directory):\n",
    "        path = directory+\"/\"+filename\n",
    "        face = extract_face(path)\n",
    "        faces.append(face)\n",
    "        \n",
    "    return faces"
   ]
  },
  {
   "cell_type": "code",
   "execution_count": 6,
   "metadata": {},
   "outputs": [],
   "source": [
    "# Loading dataset\n",
    "\n",
    "def load_dataset(directory):\n",
    "    \n",
    "    X, y = list(), list()\n",
    "    for subdir in listdir(directory):\n",
    "        path = path =  directory+\"/\"+subdir\n",
    "        if not isdir(path):\n",
    "            continue\n",
    "        faces = load_faces(path)\n",
    "        labels = [subdir for _ in range(len(faces))]  # taking labels as name of folder\n",
    "        print('Found %d images of person: %s' % (len(faces), subdir))\n",
    "        X.extend(faces)\n",
    "        y.extend(labels)\n",
    "        \n",
    "    return asarray(X), asarray(y)"
   ]
  },
  {
   "cell_type": "code",
   "execution_count": 7,
   "metadata": {},
   "outputs": [
    {
     "name": "stdout",
     "output_type": "stream",
     "text": [
      "WARNING:tensorflow:5 out of the last 8 calls to <function Model.make_predict_function.<locals>.predict_function at 0x00000139C74F6840> triggered tf.function retracing. Tracing is expensive and the excessive number of tracings could be due to (1) creating @tf.function repeatedly in a loop, (2) passing tensors with different shapes, (3) passing Python objects instead of tensors. For (1), please define your @tf.function outside of the loop. For (2), @tf.function has experimental_relax_shapes=True option that relaxes argument shapes that can avoid unnecessary retracing. For (3), please refer to https://www.tensorflow.org/guide/function#controlling_retracing and https://www.tensorflow.org/api_docs/python/tf/function for  more details.\n",
      "WARNING:tensorflow:6 out of the last 9 calls to <function Model.make_predict_function.<locals>.predict_function at 0x00000139C6FFDA60> triggered tf.function retracing. Tracing is expensive and the excessive number of tracings could be due to (1) creating @tf.function repeatedly in a loop, (2) passing tensors with different shapes, (3) passing Python objects instead of tensors. For (1), please define your @tf.function outside of the loop. For (2), @tf.function has experimental_relax_shapes=True option that relaxes argument shapes that can avoid unnecessary retracing. For (3), please refer to https://www.tensorflow.org/guide/function#controlling_retracing and https://www.tensorflow.org/api_docs/python/tf/function for  more details.\n",
      "Found 14 images of person: ben_afflek\n",
      "Found 17 images of person: elton_john\n",
      "Found 21 images of person: jerry_seinfeld\n",
      "Found 19 images of person: madonna\n",
      "Found 22 images of person: mindy_kaling\n",
      "Found 14 images of person: Shivanu_Sharma\n",
      "(107, 160, 160, 3) (107,)\n"
     ]
    }
   ],
   "source": [
    "# Loading training dataset\n",
    "\n",
    "trainX, trainy = load_dataset('train')\n",
    "print(trainX.shape, trainy.shape)"
   ]
  },
  {
   "cell_type": "code",
   "execution_count": 8,
   "metadata": {},
   "outputs": [
    {
     "name": "stdout",
     "output_type": "stream",
     "text": [
      "Found 5 images of person: ben_afflek\n",
      "Found 5 images of person: elton_john\n",
      "Found 5 images of person: jerry_seinfeld\n",
      "Found 5 images of person: madonna\n",
      "Found 5 images of person: mindy_kaling\n",
      "Found 5 images of person: Shivanu_Sharma\n"
     ]
    }
   ],
   "source": [
    "# load test dataset\n",
    "\n",
    "testX, testy = load_dataset('val')"
   ]
  },
  {
   "cell_type": "markdown",
   "metadata": {},
   "source": [
    "## Extracting Facial Embeddings"
   ]
  },
  {
   "cell_type": "markdown",
   "metadata": {},
   "source": [
    "To predict an embedding, first the pixel values of the image need to be suitably prepared to meet the expectations of the FaceNet model. This specific implementation of the FaceNet model expects that the pixel values are standardized. <br>\n",
    "In order to make a prediction for one example in Keras, we must expand the dimensions so that the face array is one sample\n",
    "A face embedding is a vector that represents the features extracted from the face. This can then be compared with the vectors generated for other faces"
   ]
  },
  {
   "cell_type": "code",
   "execution_count": 9,
   "metadata": {},
   "outputs": [],
   "source": [
    "# get the face embedding for one face\n",
    "\n",
    "def get_embedding(model, face_pixels):\n",
    "    \n",
    "    face_pixels = face_pixels.astype('float32')\n",
    "    mean, std = face_pixels.mean(), face_pixels.std()\n",
    "    face_pixels = (face_pixels - mean) / std  # z scaling the values according to model\n",
    "\n",
    "    samples = expand_dims(face_pixels, axis=0)\n",
    "    yhat = model.predict(samples) #predicting the embedding\n",
    "    \n",
    "    # It analyses the given image and returns numerical vectors that represent each detected face in the image\n",
    "    \n",
    "    return yhat[0]"
   ]
  },
  {
   "cell_type": "code",
   "execution_count": 10,
   "metadata": {},
   "outputs": [
    {
     "name": "stdout",
     "output_type": "stream",
     "text": [
      "WARNING:tensorflow:AutoGraph could not transform <function <lambda> at 0x00000139BF7B9268> and will run it as-is.\n",
      "Cause: could not parse the source code of <function <lambda> at 0x00000139BF7B9268>: no matching AST found\n",
      "To silence this warning, decorate the function with @tf.autograph.experimental.do_not_convert\n",
      "WARNING: AutoGraph could not transform <function <lambda> at 0x00000139BF7B9268> and will run it as-is.\n",
      "Cause: could not parse the source code of <function <lambda> at 0x00000139BF7B9268>: no matching AST found\n",
      "To silence this warning, decorate the function with @tf.autograph.experimental.do_not_convert\n",
      "WARNING:tensorflow:AutoGraph could not transform <function <lambda> at 0x00000139BF7B96A8> and will run it as-is.\n",
      "Cause: could not parse the source code of <function <lambda> at 0x00000139BF7B96A8>: no matching AST found\n",
      "To silence this warning, decorate the function with @tf.autograph.experimental.do_not_convert\n",
      "WARNING: AutoGraph could not transform <function <lambda> at 0x00000139BF7B96A8> and will run it as-is.\n",
      "Cause: could not parse the source code of <function <lambda> at 0x00000139BF7B96A8>: no matching AST found\n",
      "To silence this warning, decorate the function with @tf.autograph.experimental.do_not_convert\n",
      "WARNING:tensorflow:AutoGraph could not transform <function <lambda> at 0x00000139BF7B9730> and will run it as-is.\n",
      "Cause: could not parse the source code of <function <lambda> at 0x00000139BF7B9730>: no matching AST found\n",
      "To silence this warning, decorate the function with @tf.autograph.experimental.do_not_convert\n",
      "WARNING: AutoGraph could not transform <function <lambda> at 0x00000139BF7B9730> and will run it as-is.\n",
      "Cause: could not parse the source code of <function <lambda> at 0x00000139BF7B9730>: no matching AST found\n",
      "To silence this warning, decorate the function with @tf.autograph.experimental.do_not_convert\n",
      "WARNING:tensorflow:AutoGraph could not transform <function <lambda> at 0x00000139BF7B97B8> and will run it as-is.\n",
      "Cause: could not parse the source code of <function <lambda> at 0x00000139BF7B97B8>: no matching AST found\n",
      "To silence this warning, decorate the function with @tf.autograph.experimental.do_not_convert\n",
      "WARNING: AutoGraph could not transform <function <lambda> at 0x00000139BF7B97B8> and will run it as-is.\n",
      "Cause: could not parse the source code of <function <lambda> at 0x00000139BF7B97B8>: no matching AST found\n",
      "To silence this warning, decorate the function with @tf.autograph.experimental.do_not_convert\n",
      "WARNING:tensorflow:AutoGraph could not transform <function <lambda> at 0x00000139BF7B9840> and will run it as-is.\n",
      "Cause: could not parse the source code of <function <lambda> at 0x00000139BF7B9840>: no matching AST found\n",
      "To silence this warning, decorate the function with @tf.autograph.experimental.do_not_convert\n",
      "WARNING: AutoGraph could not transform <function <lambda> at 0x00000139BF7B9840> and will run it as-is.\n",
      "Cause: could not parse the source code of <function <lambda> at 0x00000139BF7B9840>: no matching AST found\n",
      "To silence this warning, decorate the function with @tf.autograph.experimental.do_not_convert\n",
      "WARNING:tensorflow:AutoGraph could not transform <function <lambda> at 0x00000139BF7B98C8> and will run it as-is.\n",
      "Cause: could not parse the source code of <function <lambda> at 0x00000139BF7B98C8>: no matching AST found\n",
      "To silence this warning, decorate the function with @tf.autograph.experimental.do_not_convert\n",
      "WARNING: AutoGraph could not transform <function <lambda> at 0x00000139BF7B98C8> and will run it as-is.\n",
      "Cause: could not parse the source code of <function <lambda> at 0x00000139BF7B98C8>: no matching AST found\n",
      "To silence this warning, decorate the function with @tf.autograph.experimental.do_not_convert\n",
      "WARNING:tensorflow:AutoGraph could not transform <function <lambda> at 0x00000139BF7B9950> and will run it as-is.\n",
      "Cause: could not parse the source code of <function <lambda> at 0x00000139BF7B9950>: no matching AST found\n",
      "To silence this warning, decorate the function with @tf.autograph.experimental.do_not_convert\n",
      "WARNING: AutoGraph could not transform <function <lambda> at 0x00000139BF7B9950> and will run it as-is.\n",
      "Cause: could not parse the source code of <function <lambda> at 0x00000139BF7B9950>: no matching AST found\n",
      "To silence this warning, decorate the function with @tf.autograph.experimental.do_not_convert\n",
      "WARNING:tensorflow:AutoGraph could not transform <function <lambda> at 0x00000139BF7B99D8> and will run it as-is.\n",
      "Cause: could not parse the source code of <function <lambda> at 0x00000139BF7B99D8>: no matching AST found\n",
      "To silence this warning, decorate the function with @tf.autograph.experimental.do_not_convert\n",
      "WARNING: AutoGraph could not transform <function <lambda> at 0x00000139BF7B99D8> and will run it as-is.\n",
      "Cause: could not parse the source code of <function <lambda> at 0x00000139BF7B99D8>: no matching AST found\n",
      "To silence this warning, decorate the function with @tf.autograph.experimental.do_not_convert\n",
      "WARNING:tensorflow:AutoGraph could not transform <function <lambda> at 0x00000139BF7B9A60> and will run it as-is.\n",
      "Cause: could not parse the source code of <function <lambda> at 0x00000139BF7B9A60>: no matching AST found\n",
      "To silence this warning, decorate the function with @tf.autograph.experimental.do_not_convert\n",
      "WARNING: AutoGraph could not transform <function <lambda> at 0x00000139BF7B9A60> and will run it as-is.\n",
      "Cause: could not parse the source code of <function <lambda> at 0x00000139BF7B9A60>: no matching AST found\n",
      "To silence this warning, decorate the function with @tf.autograph.experimental.do_not_convert\n",
      "WARNING:tensorflow:AutoGraph could not transform <function <lambda> at 0x00000139BF7B9AE8> and will run it as-is.\n",
      "Cause: could not parse the source code of <function <lambda> at 0x00000139BF7B9AE8>: no matching AST found\n",
      "To silence this warning, decorate the function with @tf.autograph.experimental.do_not_convert\n",
      "WARNING: AutoGraph could not transform <function <lambda> at 0x00000139BF7B9AE8> and will run it as-is.\n",
      "Cause: could not parse the source code of <function <lambda> at 0x00000139BF7B9AE8>: no matching AST found\n",
      "To silence this warning, decorate the function with @tf.autograph.experimental.do_not_convert\n",
      "WARNING:tensorflow:AutoGraph could not transform <function <lambda> at 0x00000139BF7B9B70> and will run it as-is.\n",
      "Cause: could not parse the source code of <function <lambda> at 0x00000139BF7B9B70>: no matching AST found\n",
      "To silence this warning, decorate the function with @tf.autograph.experimental.do_not_convert\n",
      "WARNING: AutoGraph could not transform <function <lambda> at 0x00000139BF7B9B70> and will run it as-is.\n",
      "Cause: could not parse the source code of <function <lambda> at 0x00000139BF7B9B70>: no matching AST found\n",
      "To silence this warning, decorate the function with @tf.autograph.experimental.do_not_convert\n",
      "WARNING:tensorflow:AutoGraph could not transform <function <lambda> at 0x00000139BF7B9BF8> and will run it as-is.\n",
      "Cause: could not parse the source code of <function <lambda> at 0x00000139BF7B9BF8>: no matching AST found\n",
      "To silence this warning, decorate the function with @tf.autograph.experimental.do_not_convert\n",
      "WARNING: AutoGraph could not transform <function <lambda> at 0x00000139BF7B9BF8> and will run it as-is.\n",
      "Cause: could not parse the source code of <function <lambda> at 0x00000139BF7B9BF8>: no matching AST found\n",
      "To silence this warning, decorate the function with @tf.autograph.experimental.do_not_convert\n",
      "WARNING:tensorflow:AutoGraph could not transform <function <lambda> at 0x00000139BF7B9C80> and will run it as-is.\n",
      "Cause: could not parse the source code of <function <lambda> at 0x00000139BF7B9C80>: no matching AST found\n",
      "To silence this warning, decorate the function with @tf.autograph.experimental.do_not_convert\n",
      "WARNING: AutoGraph could not transform <function <lambda> at 0x00000139BF7B9C80> and will run it as-is.\n",
      "Cause: could not parse the source code of <function <lambda> at 0x00000139BF7B9C80>: no matching AST found\n",
      "To silence this warning, decorate the function with @tf.autograph.experimental.do_not_convert\n",
      "WARNING:tensorflow:AutoGraph could not transform <function <lambda> at 0x00000139BF7B9D08> and will run it as-is.\n",
      "Cause: could not parse the source code of <function <lambda> at 0x00000139BF7B9D08>: no matching AST found\n",
      "To silence this warning, decorate the function with @tf.autograph.experimental.do_not_convert\n"
     ]
    },
    {
     "name": "stdout",
     "output_type": "stream",
     "text": [
      "WARNING: AutoGraph could not transform <function <lambda> at 0x00000139BF7B9D08> and will run it as-is.\n",
      "Cause: could not parse the source code of <function <lambda> at 0x00000139BF7B9D08>: no matching AST found\n",
      "To silence this warning, decorate the function with @tf.autograph.experimental.do_not_convert\n",
      "WARNING:tensorflow:AutoGraph could not transform <function <lambda> at 0x00000139BF7B9D90> and will run it as-is.\n",
      "Cause: could not parse the source code of <function <lambda> at 0x00000139BF7B9D90>: no matching AST found\n",
      "To silence this warning, decorate the function with @tf.autograph.experimental.do_not_convert\n",
      "WARNING: AutoGraph could not transform <function <lambda> at 0x00000139BF7B9D90> and will run it as-is.\n",
      "Cause: could not parse the source code of <function <lambda> at 0x00000139BF7B9D90>: no matching AST found\n",
      "To silence this warning, decorate the function with @tf.autograph.experimental.do_not_convert\n",
      "WARNING:tensorflow:AutoGraph could not transform <function <lambda> at 0x00000139BF7B9EA0> and will run it as-is.\n",
      "Cause: could not parse the source code of <function <lambda> at 0x00000139BF7B9EA0>: no matching AST found\n",
      "To silence this warning, decorate the function with @tf.autograph.experimental.do_not_convert\n",
      "WARNING: AutoGraph could not transform <function <lambda> at 0x00000139BF7B9EA0> and will run it as-is.\n",
      "Cause: could not parse the source code of <function <lambda> at 0x00000139BF7B9EA0>: no matching AST found\n",
      "To silence this warning, decorate the function with @tf.autograph.experimental.do_not_convert\n",
      "WARNING:tensorflow:AutoGraph could not transform <function <lambda> at 0x00000139BF7B9E18> and will run it as-is.\n",
      "Cause: could not parse the source code of <function <lambda> at 0x00000139BF7B9E18>: no matching AST found\n",
      "To silence this warning, decorate the function with @tf.autograph.experimental.do_not_convert\n",
      "WARNING: AutoGraph could not transform <function <lambda> at 0x00000139BF7B9E18> and will run it as-is.\n",
      "Cause: could not parse the source code of <function <lambda> at 0x00000139BF7B9E18>: no matching AST found\n",
      "To silence this warning, decorate the function with @tf.autograph.experimental.do_not_convert\n",
      "WARNING:tensorflow:AutoGraph could not transform <function <lambda> at 0x00000139BF7B9F28> and will run it as-is.\n",
      "Cause: could not parse the source code of <function <lambda> at 0x00000139BF7B9F28>: no matching AST found\n",
      "To silence this warning, decorate the function with @tf.autograph.experimental.do_not_convert\n",
      "WARNING: AutoGraph could not transform <function <lambda> at 0x00000139BF7B9F28> and will run it as-is.\n",
      "Cause: could not parse the source code of <function <lambda> at 0x00000139BF7B9F28>: no matching AST found\n",
      "To silence this warning, decorate the function with @tf.autograph.experimental.do_not_convert\n",
      "WARNING:tensorflow:AutoGraph could not transform <function <lambda> at 0x00000139BF9C10D0> and will run it as-is.\n",
      "Cause: could not parse the source code of <function <lambda> at 0x00000139BF9C10D0>: no matching AST found\n",
      "To silence this warning, decorate the function with @tf.autograph.experimental.do_not_convert\n",
      "WARNING: AutoGraph could not transform <function <lambda> at 0x00000139BF9C10D0> and will run it as-is.\n",
      "Cause: could not parse the source code of <function <lambda> at 0x00000139BF9C10D0>: no matching AST found\n",
      "To silence this warning, decorate the function with @tf.autograph.experimental.do_not_convert\n",
      "WARNING:tensorflow:AutoGraph could not transform <function <lambda> at 0x00000139BF9C1048> and will run it as-is.\n",
      "Cause: could not parse the source code of <function <lambda> at 0x00000139BF9C1048>: no matching AST found\n",
      "To silence this warning, decorate the function with @tf.autograph.experimental.do_not_convert\n",
      "WARNING: AutoGraph could not transform <function <lambda> at 0x00000139BF9C1048> and will run it as-is.\n",
      "Cause: could not parse the source code of <function <lambda> at 0x00000139BF9C1048>: no matching AST found\n",
      "To silence this warning, decorate the function with @tf.autograph.experimental.do_not_convert\n",
      "WARNING:tensorflow:AutoGraph could not transform <function <lambda> at 0x00000139BF9C1158> and will run it as-is.\n",
      "Cause: could not parse the source code of <function <lambda> at 0x00000139BF9C1158>: no matching AST found\n",
      "To silence this warning, decorate the function with @tf.autograph.experimental.do_not_convert\n",
      "WARNING: AutoGraph could not transform <function <lambda> at 0x00000139BF9C1158> and will run it as-is.\n",
      "Cause: could not parse the source code of <function <lambda> at 0x00000139BF9C1158>: no matching AST found\n",
      "To silence this warning, decorate the function with @tf.autograph.experimental.do_not_convert\n",
      "(107, 128)\n"
     ]
    }
   ],
   "source": [
    "# Embeddings of training data\n",
    "\n",
    "newTrainX = list()\n",
    "for face_pixels in trainX:\n",
    "    embedding = get_embedding(model, face_pixels)\n",
    "    newTrainX.append(embedding)\n",
    "newTrainX = asarray(newTrainX)\n",
    "\n",
    "print(newTrainX.shape) # 128 dimension vector is returned by model for 107 images"
   ]
  },
  {
   "cell_type": "code",
   "execution_count": 11,
   "metadata": {},
   "outputs": [
    {
     "name": "stdout",
     "output_type": "stream",
     "text": [
      "(30, 128)\n"
     ]
    }
   ],
   "source": [
    "# Embeddings of training data\n",
    "\n",
    "newTestX = list()\n",
    "for face_pixels in testX:\n",
    "    embedding = get_embedding(model, face_pixels)\n",
    "    newTestX.append(embedding)\n",
    "newTestX = asarray(newTestX)\n",
    "\n",
    "print(newTestX.shape) # 128 dimension vector is returned by model for 30 images"
   ]
  },
  {
   "cell_type": "markdown",
   "metadata": {},
   "source": [
    "## Face Classification"
   ]
  },
  {
   "cell_type": "code",
   "execution_count": 12,
   "metadata": {},
   "outputs": [],
   "source": [
    "# Normalize input vectors\n",
    "\n",
    "in_encoder = Normalizer(norm='l2') # performing l2 normalization\n",
    "trainX_emb = in_encoder.transform(newTrainX)\n",
    "testX_emb = in_encoder.transform(newTestX)"
   ]
  },
  {
   "cell_type": "code",
   "execution_count": 13,
   "metadata": {},
   "outputs": [],
   "source": [
    "# Encoding labels \n",
    "\n",
    "out_encoder = LabelEncoder()\n",
    "out_encoder.fit(trainy)\n",
    "trainy_enc = out_encoder.transform(trainy)\n",
    "testy_enc = out_encoder.transform(testy)"
   ]
  },
  {
   "cell_type": "code",
   "execution_count": 14,
   "metadata": {},
   "outputs": [
    {
     "data": {
      "text/plain": [
       "SVC(kernel='linear', probability=True)"
      ]
     },
     "execution_count": 14,
     "metadata": {},
     "output_type": "execute_result"
    }
   ],
   "source": [
    "# Fitting SVC classifier\n",
    "\n",
    "model_svc = SVC(kernel='linear', probability=True)\n",
    "model_svc.fit(trainX_emb, trainy_enc)"
   ]
  },
  {
   "cell_type": "code",
   "execution_count": 17,
   "metadata": {},
   "outputs": [
    {
     "ename": "AttributeError",
     "evalue": "'SVC' object has no attribute 'save'",
     "output_type": "error",
     "traceback": [
      "\u001b[1;31m---------------------------------------------------------------------------\u001b[0m",
      "\u001b[1;31mAttributeError\u001b[0m                            Traceback (most recent call last)",
      "\u001b[1;32m<ipython-input-17-57008e1403eb>\u001b[0m in \u001b[0;36m<module>\u001b[1;34m\u001b[0m\n\u001b[1;32m----> 1\u001b[1;33m \u001b[0mmodel_svc\u001b[0m\u001b[1;33m.\u001b[0m\u001b[0msave\u001b[0m\u001b[1;33m(\u001b[0m\u001b[1;34m'face2.h5'\u001b[0m\u001b[1;33m)\u001b[0m\u001b[1;33m\u001b[0m\u001b[1;33m\u001b[0m\u001b[0m\n\u001b[0m",
      "\u001b[1;31mAttributeError\u001b[0m: 'SVC' object has no attribute 'save'"
     ]
    }
   ],
   "source": [
    "model_svc.save('face2.h5')"
   ]
  },
  {
   "cell_type": "code",
   "execution_count": 16,
   "metadata": {},
   "outputs": [
    {
     "ename": "ModuleNotFoundError",
     "evalue": "No module named 'tensorflow.contrib'",
     "output_type": "error",
     "traceback": [
      "\u001b[1;31m---------------------------------------------------------------------------\u001b[0m",
      "\u001b[1;31mModuleNotFoundError\u001b[0m                       Traceback (most recent call last)",
      "\u001b[1;32m<ipython-input-16-e78e857c8e28>\u001b[0m in \u001b[0;36m<module>\u001b[1;34m\u001b[0m\n\u001b[0;32m      1\u001b[0m \u001b[1;32mfrom\u001b[0m \u001b[0mtensorflow\u001b[0m \u001b[1;32mimport\u001b[0m \u001b[0mkeras\u001b[0m\u001b[1;33m\u001b[0m\u001b[1;33m\u001b[0m\u001b[0m\n\u001b[1;32m----> 2\u001b[1;33m \u001b[1;32mfrom\u001b[0m \u001b[0mtensorflow\u001b[0m\u001b[1;33m.\u001b[0m\u001b[0mcontrib\u001b[0m \u001b[1;32mimport\u001b[0m \u001b[0mlite\u001b[0m\u001b[1;33m\u001b[0m\u001b[1;33m\u001b[0m\u001b[0m\n\u001b[0m",
      "\u001b[1;31mModuleNotFoundError\u001b[0m: No module named 'tensorflow.contrib'"
     ]
    }
   ],
   "source": [
    "from tensorflow import keras\n",
    "from tensorflow.contrib import lite"
   ]
  },
  {
   "cell_type": "code",
   "execution_count": 15,
   "metadata": {},
   "outputs": [
    {
     "ename": "NameError",
     "evalue": "name 'keras' is not defined",
     "output_type": "error",
     "traceback": [
      "\u001b[1;31m---------------------------------------------------------------------------\u001b[0m",
      "\u001b[1;31mNameError\u001b[0m                                 Traceback (most recent call last)",
      "\u001b[1;32m<ipython-input-15-ddf7dbbdc418>\u001b[0m in \u001b[0;36m<module>\u001b[1;34m\u001b[0m\n\u001b[0;32m      1\u001b[0m \u001b[0mkeras_file\u001b[0m\u001b[1;33m=\u001b[0m\u001b[1;34m\"face.h5\"\u001b[0m\u001b[1;33m\u001b[0m\u001b[1;33m\u001b[0m\u001b[0m\n\u001b[1;32m----> 2\u001b[1;33m \u001b[0mkeras\u001b[0m\u001b[1;33m.\u001b[0m\u001b[0mmodels\u001b[0m\u001b[1;33m.\u001b[0m\u001b[0msave_model\u001b[0m\u001b[1;33m(\u001b[0m\u001b[0mmodel_svc\u001b[0m\u001b[1;33m,\u001b[0m\u001b[0mkeras_file\u001b[0m\u001b[1;33m)\u001b[0m\u001b[1;33m\u001b[0m\u001b[1;33m\u001b[0m\u001b[0m\n\u001b[0m",
      "\u001b[1;31mNameError\u001b[0m: name 'keras' is not defined"
     ]
    }
   ],
   "source": [
    "keras_file=\"face.h5\"\n",
    "keras.models.save_model(model_svc,keras_file)"
   ]
  },
  {
   "cell_type": "code",
   "execution_count": 15,
   "metadata": {},
   "outputs": [],
   "source": [
    "# Test model on a random example from the test dataset\n",
    "\n",
    "selection = choice([i for i in range(testX_emb.shape[0])])\n",
    "random_face_pixels = testX[selection]\n",
    "random_face_emb = testX_emb[selection]\n",
    "random_face_class = testy_enc[selection]\n",
    "random_face_name = out_encoder.inverse_transform([random_face_class])"
   ]
  },
  {
   "cell_type": "code",
   "execution_count": 16,
   "metadata": {},
   "outputs": [
    {
     "name": "stdout",
     "output_type": "stream",
     "text": [
      "Predicted: ben_afflek (66.57 percent probability)\n",
      "Actual: ben_afflek\n"
     ]
    },
    {
     "data": {
      "image/png": "[encoded data removed]",
      "text/plain": [
       "<Figure size 432x288 with 1 Axes>"
      ]
     },
     "metadata": {
      "needs_background": "light"
     },
     "output_type": "display_data"
    }
   ],
   "source": [
    "# Prediction and plotting the random face sample\n",
    "\n",
    "samples = expand_dims(random_face_emb, axis=0)\n",
    "yhat_class = model_svc.predict(samples)\n",
    "yhat_prob = model_svc.predict_proba(samples)\n",
    "\n",
    "class_index = yhat_class[0]\n",
    "class_probability = yhat_prob[0,class_index] * 100\n",
    "predict_names = out_encoder.inverse_transform(yhat_class)\n",
    "print('Predicted: %s (%.2f percent probability)' % (predict_names[0], class_probability))\n",
    "print('Actual: %s' % random_face_name[0])\n",
    "\n",
    "pyplot.imshow(random_face_pixels)\n",
    "title = \"%s (%.2f percent probability)\" % (predict_names[0], class_probability)\n",
    "pyplot.title(title)\n",
    "pyplot.show()"
   ]
  },
  {
   "cell_type": "markdown",
   "metadata": {},
   "source": [
    "## Implementing the model on live webcam"
   ]
  },
  {
   "cell_type": "code",
   "execution_count": 17,
   "metadata": {},
   "outputs": [],
   "source": [
    "# Get a reference to webcam \n",
    "\n",
    "video_capture = cv2.VideoCapture(0)\n",
    "detector = MTCNN()\n",
    "required_size=(160, 160)\n",
    "\n",
    "while True:\n",
    "    \n",
    "    # Grab a single frame of video\n",
    "    ret, frame = video_capture.read()\n",
    "\n",
    "    # Convert the image from BGR color (which OpenCV uses) to RGB color \n",
    "    rgb_frame = frame[:, :, ::-1]\n",
    "    pixels = asarray(rgb_frame)\n",
    "    \n",
    "    # Extracting the face\n",
    "    x1, y1, width, height = detector.detect_faces(pixels)[0]['box']\n",
    "    x1, y1 = abs(x1), abs(y1) # as pixels are whole numbers\n",
    "    x2, y2 = x1 + width, y1 + height # obtaining the x2,y2 extreme coordinates using result dictionary\n",
    "    face = pixels[y1:y2, x1:x2] # extracting the face using the calculated coordinates\n",
    "    image = Image.fromarray(face) \n",
    "    image = image.resize(required_size) #resizing to fit into facenet model as it takes 160x160 output\n",
    "    face_array = asarray(image)\n",
    "    \n",
    "    # Extracting the face embeddings\n",
    "    random_face_emb=list()\n",
    "    emb=get_embedding(model, face_array)\n",
    "    random_face_emb.append(emb)\n",
    "    random_face_emb = asarray(random_face_emb)\n",
    "    random_face_emb = in_encoder.transform(random_face_emb)\n",
    "    \n",
    "    # Making the box enclosing the face\n",
    "    cv2.rectangle(frame, (abs(x1),abs(y1)), (abs(x1)+width,abs(y1)+height), (0, 0, 255), 2)\n",
    "    \n",
    "    # Making prediction using SVC trained previously\n",
    "    samples = random_face_emb\n",
    "    yhat_class = model_svc.predict(samples)\n",
    "    yhat_prob = model_svc.predict_proba(samples)\n",
    "    class_index = yhat_class[0]\n",
    "    class_probability = yhat_prob[0,class_index] * 100\n",
    "    predict_names = out_encoder.inverse_transform(yhat_class)\n",
    "        \n",
    "    # Displaying the results on frame\n",
    "    cv2.putText(frame, 'Predicted: {}({:.3f}percent accuracy)'.format(predict_names[0], class_probability), (x1, y1-10), cv2.FONT_HERSHEY_SIMPLEX, 0.5, (36,255,12), 1)\n",
    "        \n",
    "    # Display the resulting image\n",
    "    cv2.imshow('Video', frame)\n",
    "\n",
    "    # Hit 'q' on the keyboard to quit!\n",
    "    if cv2.waitKey(1) & 0xFF == ord('q'):\n",
    "        break\n",
    "\n",
    "# Release handle to the webcam\n",
    "video_capture.release()\n",
    "cv2.destroyAllWindows()"
   ]
  },
  {
   "cell_type": "code",
   "execution_count": null,
   "metadata": {},
   "outputs": [],
   "source": []
  }
 ],
 "metadata": {
  "kernelspec": {
   "display_name": "Python 3",
   "language": "python",
   "name": "python3"
  },
  "language_info": {
   "codemirror_mode": {
    "name": "ipython",
    "version": 3
   },
   "file_extension": ".py",
   "mimetype": "text/x-python",
   "name": "python",
   "nbconvert_exporter": "python",
   "pygments_lexer": "ipython3",
   "version": "3.6.13"
  }
 },
 "nbformat": 4,
 "nbformat_minor": 4
}
